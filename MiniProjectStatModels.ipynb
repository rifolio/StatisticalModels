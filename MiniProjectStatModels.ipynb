{
  "cells": [
    {
      "cell_type": "markdown",
      "metadata": {
        "id": "ZOA6vMjOl_f3"
      },
      "source": [
        "## Imports"
      ]
    },
    {
      "cell_type": "code",
      "execution_count": null,
      "metadata": {
        "id": "qiMKiWQcjSmM"
      },
      "outputs": [],
      "source": [
        "import pandas as pd\n",
        "import numpy as np\n",
        "import matplotlib.pyplot as plt\n",
        "import seaborn as sns\n",
        "import scipy.stats as stats\n",
        "import math"
      ]
    },
    {
      "cell_type": "code",
      "execution_count": 4,
      "metadata": {
        "id": "TP2L2_Mrmfhd"
      },
      "outputs": [],
      "source": [
        "df = pd.read_csv('Data/Dataset 7 Fecundity of fruit flies.csv')"
      ]
    },
    {
      "cell_type": "markdown",
      "metadata": {
        "id": "mTJ9ZlR2ktWh"
      },
      "source": [
        "## Data analysis and pre-processing"
      ]
    },
    {
      "cell_type": "code",
      "execution_count": 5,
      "metadata": {
        "id": "MrCcC6sXlWoo"
      },
      "outputs": [],
      "source": [
        "df.drop(columns=['Unnamed: 3'], inplace=True)"
      ]
    },
    {
      "cell_type": "markdown",
      "metadata": {
        "id": "FvXLkH1fdyps"
      },
      "source": [
        "First, we want to see what data we work with. For that we can df.info() methods to see the data types (and can determine if there is a need to tranform them)"
      ]
    },
    {
      "cell_type": "code",
      "execution_count": 6,
      "metadata": {
        "colab": {
          "base_uri": "https://localhost:8080/",
          "height": 397
        },
        "id": "-Lg7ntL5kfz0",
        "outputId": "272a25f8-efda-4fd5-d18a-11adf209439b"
      },
      "outputs": [
        {
          "name": "stdout",
          "output_type": "stream",
          "text": [
            "<class 'pandas.core.frame.DataFrame'>\n",
            "RangeIndex: 25 entries, 0 to 24\n",
            "Data columns (total 3 columns):\n",
            " #   Column       Non-Null Count  Dtype  \n",
            "---  ------       --------------  -----  \n",
            " 0   resistant    25 non-null     float64\n",
            " 1   susceptible  25 non-null     float64\n",
            " 2   nonselected  25 non-null     float64\n",
            "dtypes: float64(3)\n",
            "memory usage: 732.0 bytes\n",
            "None\n"
          ]
        },
        {
          "data": {
            "application/vnd.google.colaboratory.intrinsic+json": {
              "summary": "{\n  \"name\": \"df\",\n  \"rows\": 25,\n  \"fields\": [\n    {\n      \"column\": \"resistant\",\n      \"properties\": {\n        \"dtype\": \"number\",\n        \"std\": 7.772391309414798,\n        \"min\": 12.8,\n        \"max\": 44.4,\n        \"num_unique_values\": 24,\n        \"samples\": [\n          16.4,\n          26.4,\n          12.8\n        ],\n        \"semantic_type\": \"\",\n        \"description\": \"\"\n      }\n    },\n    {\n      \"column\": \"susceptible\",\n      \"properties\": {\n        \"dtype\": \"number\",\n        \"std\": 9.768466273337557,\n        \"min\": 10.8,\n        \"max\": 48.5,\n        \"num_unique_values\": 25,\n        \"samples\": [\n          26.7,\n          20.1,\n          38.4\n        ],\n        \"semantic_type\": \"\",\n        \"description\": \"\"\n      }\n    },\n    {\n      \"column\": \"nonselected\",\n      \"properties\": {\n        \"dtype\": \"number\",\n        \"std\": 8.942013196143249,\n        \"min\": 14.9,\n        \"max\": 51.8,\n        \"num_unique_values\": 25,\n        \"samples\": [\n          28.2,\n          30.4,\n          35.4\n        ],\n        \"semantic_type\": \"\",\n        \"description\": \"\"\n      }\n    }\n  ]\n}",
              "type": "dataframe",
              "variable_name": "df"
            },
            "text/html": [
              "\n",
              "  <div id=\"df-fa45934b-31af-4310-b948-69a89b9f5c68\" class=\"colab-df-container\">\n",
              "    <div>\n",
              "<style scoped>\n",
              "    .dataframe tbody tr th:only-of-type {\n",
              "        vertical-align: middle;\n",
              "    }\n",
              "\n",
              "    .dataframe tbody tr th {\n",
              "        vertical-align: top;\n",
              "    }\n",
              "\n",
              "    .dataframe thead th {\n",
              "        text-align: right;\n",
              "    }\n",
              "</style>\n",
              "<table border=\"1\" class=\"dataframe\">\n",
              "  <thead>\n",
              "    <tr style=\"text-align: right;\">\n",
              "      <th></th>\n",
              "      <th>resistant</th>\n",
              "      <th>susceptible</th>\n",
              "      <th>nonselected</th>\n",
              "    </tr>\n",
              "  </thead>\n",
              "  <tbody>\n",
              "    <tr>\n",
              "      <th>0</th>\n",
              "      <td>12.8</td>\n",
              "      <td>38.4</td>\n",
              "      <td>35.4</td>\n",
              "    </tr>\n",
              "    <tr>\n",
              "      <th>1</th>\n",
              "      <td>21.6</td>\n",
              "      <td>32.9</td>\n",
              "      <td>27.4</td>\n",
              "    </tr>\n",
              "    <tr>\n",
              "      <th>2</th>\n",
              "      <td>14.8</td>\n",
              "      <td>48.5</td>\n",
              "      <td>19.3</td>\n",
              "    </tr>\n",
              "    <tr>\n",
              "      <th>3</th>\n",
              "      <td>23.1</td>\n",
              "      <td>20.9</td>\n",
              "      <td>41.8</td>\n",
              "    </tr>\n",
              "    <tr>\n",
              "      <th>4</th>\n",
              "      <td>34.6</td>\n",
              "      <td>11.6</td>\n",
              "      <td>20.3</td>\n",
              "    </tr>\n",
              "  </tbody>\n",
              "</table>\n",
              "</div>\n",
              "    <div class=\"colab-df-buttons\">\n",
              "\n",
              "  <div class=\"colab-df-container\">\n",
              "    <button class=\"colab-df-convert\" onclick=\"convertToInteractive('df-fa45934b-31af-4310-b948-69a89b9f5c68')\"\n",
              "            title=\"Convert this dataframe to an interactive table.\"\n",
              "            style=\"display:none;\">\n",
              "\n",
              "  <svg xmlns=\"http://www.w3.org/2000/svg\" height=\"24px\" viewBox=\"0 -960 960 960\">\n",
              "    <path d=\"M120-120v-720h720v720H120Zm60-500h600v-160H180v160Zm220 220h160v-160H400v160Zm0 220h160v-160H400v160ZM180-400h160v-160H180v160Zm440 0h160v-160H620v160ZM180-180h160v-160H180v160Zm440 0h160v-160H620v160Z\"/>\n",
              "  </svg>\n",
              "    </button>\n",
              "\n",
              "  <style>\n",
              "    .colab-df-container {\n",
              "      display:flex;\n",
              "      gap: 12px;\n",
              "    }\n",
              "\n",
              "    .colab-df-convert {\n",
              "      background-color: #E8F0FE;\n",
              "      border: none;\n",
              "      border-radius: 50%;\n",
              "      cursor: pointer;\n",
              "      display: none;\n",
              "      fill: #1967D2;\n",
              "      height: 32px;\n",
              "      padding: 0 0 0 0;\n",
              "      width: 32px;\n",
              "    }\n",
              "\n",
              "    .colab-df-convert:hover {\n",
              "      background-color: #E2EBFA;\n",
              "      box-shadow: 0px 1px 2px rgba(60, 64, 67, 0.3), 0px 1px 3px 1px rgba(60, 64, 67, 0.15);\n",
              "      fill: #174EA6;\n",
              "    }\n",
              "\n",
              "    .colab-df-buttons div {\n",
              "      margin-bottom: 4px;\n",
              "    }\n",
              "\n",
              "    [theme=dark] .colab-df-convert {\n",
              "      background-color: #3B4455;\n",
              "      fill: #D2E3FC;\n",
              "    }\n",
              "\n",
              "    [theme=dark] .colab-df-convert:hover {\n",
              "      background-color: #434B5C;\n",
              "      box-shadow: 0px 1px 3px 1px rgba(0, 0, 0, 0.15);\n",
              "      filter: drop-shadow(0px 1px 2px rgba(0, 0, 0, 0.3));\n",
              "      fill: #FFFFFF;\n",
              "    }\n",
              "  </style>\n",
              "\n",
              "    <script>\n",
              "      const buttonEl =\n",
              "        document.querySelector('#df-fa45934b-31af-4310-b948-69a89b9f5c68 button.colab-df-convert');\n",
              "      buttonEl.style.display =\n",
              "        google.colab.kernel.accessAllowed ? 'block' : 'none';\n",
              "\n",
              "      async function convertToInteractive(key) {\n",
              "        const element = document.querySelector('#df-fa45934b-31af-4310-b948-69a89b9f5c68');\n",
              "        const dataTable =\n",
              "          await google.colab.kernel.invokeFunction('convertToInteractive',\n",
              "                                                    [key], {});\n",
              "        if (!dataTable) return;\n",
              "\n",
              "        const docLinkHtml = 'Like what you see? Visit the ' +\n",
              "          '<a target=\"_blank\" href=https://colab.research.google.com/notebooks/data_table.ipynb>data table notebook</a>'\n",
              "          + ' to learn more about interactive tables.';\n",
              "        element.innerHTML = '';\n",
              "        dataTable['output_type'] = 'display_data';\n",
              "        await google.colab.output.renderOutput(dataTable, element);\n",
              "        const docLink = document.createElement('div');\n",
              "        docLink.innerHTML = docLinkHtml;\n",
              "        element.appendChild(docLink);\n",
              "      }\n",
              "    </script>\n",
              "  </div>\n",
              "\n",
              "\n",
              "<div id=\"df-971437c8-8921-4972-a949-fceb542500ef\">\n",
              "  <button class=\"colab-df-quickchart\" onclick=\"quickchart('df-971437c8-8921-4972-a949-fceb542500ef')\"\n",
              "            title=\"Suggest charts\"\n",
              "            style=\"display:none;\">\n",
              "\n",
              "<svg xmlns=\"http://www.w3.org/2000/svg\" height=\"24px\"viewBox=\"0 0 24 24\"\n",
              "     width=\"24px\">\n",
              "    <g>\n",
              "        <path d=\"M19 3H5c-1.1 0-2 .9-2 2v14c0 1.1.9 2 2 2h14c1.1 0 2-.9 2-2V5c0-1.1-.9-2-2-2zM9 17H7v-7h2v7zm4 0h-2V7h2v10zm4 0h-2v-4h2v4z\"/>\n",
              "    </g>\n",
              "</svg>\n",
              "  </button>\n",
              "\n",
              "<style>\n",
              "  .colab-df-quickchart {\n",
              "      --bg-color: #E8F0FE;\n",
              "      --fill-color: #1967D2;\n",
              "      --hover-bg-color: #E2EBFA;\n",
              "      --hover-fill-color: #174EA6;\n",
              "      --disabled-fill-color: #AAA;\n",
              "      --disabled-bg-color: #DDD;\n",
              "  }\n",
              "\n",
              "  [theme=dark] .colab-df-quickchart {\n",
              "      --bg-color: #3B4455;\n",
              "      --fill-color: #D2E3FC;\n",
              "      --hover-bg-color: #434B5C;\n",
              "      --hover-fill-color: #FFFFFF;\n",
              "      --disabled-bg-color: #3B4455;\n",
              "      --disabled-fill-color: #666;\n",
              "  }\n",
              "\n",
              "  .colab-df-quickchart {\n",
              "    background-color: var(--bg-color);\n",
              "    border: none;\n",
              "    border-radius: 50%;\n",
              "    cursor: pointer;\n",
              "    display: none;\n",
              "    fill: var(--fill-color);\n",
              "    height: 32px;\n",
              "    padding: 0;\n",
              "    width: 32px;\n",
              "  }\n",
              "\n",
              "  .colab-df-quickchart:hover {\n",
              "    background-color: var(--hover-bg-color);\n",
              "    box-shadow: 0 1px 2px rgba(60, 64, 67, 0.3), 0 1px 3px 1px rgba(60, 64, 67, 0.15);\n",
              "    fill: var(--button-hover-fill-color);\n",
              "  }\n",
              "\n",
              "  .colab-df-quickchart-complete:disabled,\n",
              "  .colab-df-quickchart-complete:disabled:hover {\n",
              "    background-color: var(--disabled-bg-color);\n",
              "    fill: var(--disabled-fill-color);\n",
              "    box-shadow: none;\n",
              "  }\n",
              "\n",
              "  .colab-df-spinner {\n",
              "    border: 2px solid var(--fill-color);\n",
              "    border-color: transparent;\n",
              "    border-bottom-color: var(--fill-color);\n",
              "    animation:\n",
              "      spin 1s steps(1) infinite;\n",
              "  }\n",
              "\n",
              "  @keyframes spin {\n",
              "    0% {\n",
              "      border-color: transparent;\n",
              "      border-bottom-color: var(--fill-color);\n",
              "      border-left-color: var(--fill-color);\n",
              "    }\n",
              "    20% {\n",
              "      border-color: transparent;\n",
              "      border-left-color: var(--fill-color);\n",
              "      border-top-color: var(--fill-color);\n",
              "    }\n",
              "    30% {\n",
              "      border-color: transparent;\n",
              "      border-left-color: var(--fill-color);\n",
              "      border-top-color: var(--fill-color);\n",
              "      border-right-color: var(--fill-color);\n",
              "    }\n",
              "    40% {\n",
              "      border-color: transparent;\n",
              "      border-right-color: var(--fill-color);\n",
              "      border-top-color: var(--fill-color);\n",
              "    }\n",
              "    60% {\n",
              "      border-color: transparent;\n",
              "      border-right-color: var(--fill-color);\n",
              "    }\n",
              "    80% {\n",
              "      border-color: transparent;\n",
              "      border-right-color: var(--fill-color);\n",
              "      border-bottom-color: var(--fill-color);\n",
              "    }\n",
              "    90% {\n",
              "      border-color: transparent;\n",
              "      border-bottom-color: var(--fill-color);\n",
              "    }\n",
              "  }\n",
              "</style>\n",
              "\n",
              "  <script>\n",
              "    async function quickchart(key) {\n",
              "      const quickchartButtonEl =\n",
              "        document.querySelector('#' + key + ' button');\n",
              "      quickchartButtonEl.disabled = true;  // To prevent multiple clicks.\n",
              "      quickchartButtonEl.classList.add('colab-df-spinner');\n",
              "      try {\n",
              "        const charts = await google.colab.kernel.invokeFunction(\n",
              "            'suggestCharts', [key], {});\n",
              "      } catch (error) {\n",
              "        console.error('Error during call to suggestCharts:', error);\n",
              "      }\n",
              "      quickchartButtonEl.classList.remove('colab-df-spinner');\n",
              "      quickchartButtonEl.classList.add('colab-df-quickchart-complete');\n",
              "    }\n",
              "    (() => {\n",
              "      let quickchartButtonEl =\n",
              "        document.querySelector('#df-971437c8-8921-4972-a949-fceb542500ef button');\n",
              "      quickchartButtonEl.style.display =\n",
              "        google.colab.kernel.accessAllowed ? 'block' : 'none';\n",
              "    })();\n",
              "  </script>\n",
              "</div>\n",
              "\n",
              "    </div>\n",
              "  </div>\n"
            ],
            "text/plain": [
              "   resistant  susceptible  nonselected\n",
              "0       12.8         38.4         35.4\n",
              "1       21.6         32.9         27.4\n",
              "2       14.8         48.5         19.3\n",
              "3       23.1         20.9         41.8\n",
              "4       34.6         11.6         20.3"
            ]
          },
          "execution_count": 6,
          "metadata": {},
          "output_type": "execute_result"
        }
      ],
      "source": [
        "print(df.info())\n",
        "df.head()"
      ]
    },
    {
      "cell_type": "markdown",
      "metadata": {
        "id": "YKJv1Egud_IU"
      },
      "source": [
        "The data look really goood and no initial transormation is needed. Thus, for easier access, we will split column into a series."
      ]
    },
    {
      "cell_type": "code",
      "execution_count": 7,
      "metadata": {
        "id": "26mOGyPy23k5"
      },
      "outputs": [],
      "source": [
        "# Separate data into RS, SS, and NS\n",
        "RS = df['resistant']\n",
        "SS = df['susceptible']\n",
        "NS = df['nonselected']"
      ]
    },
    {
      "cell_type": "markdown",
      "metadata": {
        "id": "LtrfQLKrl7sF"
      },
      "source": [
        "# Analysis"
      ]
    },
    {
      "cell_type": "markdown",
      "metadata": {
        "id": "YyeIPi66-MfN"
      },
      "source": [
        "## Overview of the dataset"
      ]
    },
    {
      "cell_type": "markdown",
      "metadata": {
        "id": "Huxe6Sqj93R4"
      },
      "source": [
        "We will start with basica analysis of the dataset: means, std, counts, and basics plots"
      ]
    },
    {
      "cell_type": "markdown",
      "metadata": {
        "id": "IJ5QMxti-Yb9"
      },
      "source": [
        "\n",
        "\n",
        "---\n",
        "\n",
        "The first thing is to see overall information about dataset, for that we'll use describe() method from pandas library"
      ]
    },
    {
      "cell_type": "code",
      "execution_count": 8,
      "metadata": {
        "colab": {
          "base_uri": "https://localhost:8080/",
          "height": 300
        },
        "id": "7aA9XM4P6NvB",
        "outputId": "0deee54f-a73f-4264-fc69-344283f5e37d"
      },
      "outputs": [
        {
          "data": {
            "application/vnd.google.colaboratory.intrinsic+json": {
              "summary": "{\n  \"name\": \"df\",\n  \"rows\": 8,\n  \"fields\": [\n    {\n      \"column\": \"resistant\",\n      \"properties\": {\n        \"dtype\": \"number\",\n        \"std\": 11.005571778713618,\n        \"min\": 7.772391309414798,\n        \"max\": 44.4,\n        \"num_unique_values\": 8,\n        \"samples\": [\n          25.256000000000004,\n          23.6,\n          25.0\n        ],\n        \"semantic_type\": \"\",\n        \"description\": \"\"\n      }\n    },\n    {\n      \"column\": \"susceptible\",\n      \"properties\": {\n        \"dtype\": \"number\",\n        \"std\": 12.415025386516247,\n        \"min\": 9.768466273337557,\n        \"max\": 48.5,\n        \"num_unique_values\": 8,\n        \"samples\": [\n          23.627999999999997,\n          22.5,\n          25.0\n        ],\n        \"semantic_type\": \"\",\n        \"description\": \"\"\n      }\n    },\n    {\n      \"column\": \"nonselected\",\n      \"properties\": {\n        \"dtype\": \"number\",\n        \"std\": 13.439319635361509,\n        \"min\": 8.942013196143249,\n        \"max\": 51.8,\n        \"num_unique_values\": 8,\n        \"samples\": [\n          33.372,\n          34.4,\n          25.0\n        ],\n        \"semantic_type\": \"\",\n        \"description\": \"\"\n      }\n    }\n  ]\n}",
              "type": "dataframe"
            },
            "text/html": [
              "\n",
              "  <div id=\"df-b40f00df-a56f-4a6c-8372-0c6b6900fdae\" class=\"colab-df-container\">\n",
              "    <div>\n",
              "<style scoped>\n",
              "    .dataframe tbody tr th:only-of-type {\n",
              "        vertical-align: middle;\n",
              "    }\n",
              "\n",
              "    .dataframe tbody tr th {\n",
              "        vertical-align: top;\n",
              "    }\n",
              "\n",
              "    .dataframe thead th {\n",
              "        text-align: right;\n",
              "    }\n",
              "</style>\n",
              "<table border=\"1\" class=\"dataframe\">\n",
              "  <thead>\n",
              "    <tr style=\"text-align: right;\">\n",
              "      <th></th>\n",
              "      <th>resistant</th>\n",
              "      <th>susceptible</th>\n",
              "      <th>nonselected</th>\n",
              "    </tr>\n",
              "  </thead>\n",
              "  <tbody>\n",
              "    <tr>\n",
              "      <th>count</th>\n",
              "      <td>25.000000</td>\n",
              "      <td>25.000000</td>\n",
              "      <td>25.000000</td>\n",
              "    </tr>\n",
              "    <tr>\n",
              "      <th>mean</th>\n",
              "      <td>25.256000</td>\n",
              "      <td>23.628000</td>\n",
              "      <td>33.372000</td>\n",
              "    </tr>\n",
              "    <tr>\n",
              "      <th>std</th>\n",
              "      <td>7.772391</td>\n",
              "      <td>9.768466</td>\n",
              "      <td>8.942013</td>\n",
              "    </tr>\n",
              "    <tr>\n",
              "      <th>min</th>\n",
              "      <td>12.800000</td>\n",
              "      <td>10.800000</td>\n",
              "      <td>14.900000</td>\n",
              "    </tr>\n",
              "    <tr>\n",
              "      <th>25%</th>\n",
              "      <td>20.300000</td>\n",
              "      <td>16.000000</td>\n",
              "      <td>28.200000</td>\n",
              "    </tr>\n",
              "    <tr>\n",
              "      <th>50%</th>\n",
              "      <td>23.600000</td>\n",
              "      <td>22.500000</td>\n",
              "      <td>34.400000</td>\n",
              "    </tr>\n",
              "    <tr>\n",
              "      <th>75%</th>\n",
              "      <td>29.300000</td>\n",
              "      <td>30.200000</td>\n",
              "      <td>37.900000</td>\n",
              "    </tr>\n",
              "    <tr>\n",
              "      <th>max</th>\n",
              "      <td>44.400000</td>\n",
              "      <td>48.500000</td>\n",
              "      <td>51.800000</td>\n",
              "    </tr>\n",
              "  </tbody>\n",
              "</table>\n",
              "</div>\n",
              "    <div class=\"colab-df-buttons\">\n",
              "\n",
              "  <div class=\"colab-df-container\">\n",
              "    <button class=\"colab-df-convert\" onclick=\"convertToInteractive('df-b40f00df-a56f-4a6c-8372-0c6b6900fdae')\"\n",
              "            title=\"Convert this dataframe to an interactive table.\"\n",
              "            style=\"display:none;\">\n",
              "\n",
              "  <svg xmlns=\"http://www.w3.org/2000/svg\" height=\"24px\" viewBox=\"0 -960 960 960\">\n",
              "    <path d=\"M120-120v-720h720v720H120Zm60-500h600v-160H180v160Zm220 220h160v-160H400v160Zm0 220h160v-160H400v160ZM180-400h160v-160H180v160Zm440 0h160v-160H620v160ZM180-180h160v-160H180v160Zm440 0h160v-160H620v160Z\"/>\n",
              "  </svg>\n",
              "    </button>\n",
              "\n",
              "  <style>\n",
              "    .colab-df-container {\n",
              "      display:flex;\n",
              "      gap: 12px;\n",
              "    }\n",
              "\n",
              "    .colab-df-convert {\n",
              "      background-color: #E8F0FE;\n",
              "      border: none;\n",
              "      border-radius: 50%;\n",
              "      cursor: pointer;\n",
              "      display: none;\n",
              "      fill: #1967D2;\n",
              "      height: 32px;\n",
              "      padding: 0 0 0 0;\n",
              "      width: 32px;\n",
              "    }\n",
              "\n",
              "    .colab-df-convert:hover {\n",
              "      background-color: #E2EBFA;\n",
              "      box-shadow: 0px 1px 2px rgba(60, 64, 67, 0.3), 0px 1px 3px 1px rgba(60, 64, 67, 0.15);\n",
              "      fill: #174EA6;\n",
              "    }\n",
              "\n",
              "    .colab-df-buttons div {\n",
              "      margin-bottom: 4px;\n",
              "    }\n",
              "\n",
              "    [theme=dark] .colab-df-convert {\n",
              "      background-color: #3B4455;\n",
              "      fill: #D2E3FC;\n",
              "    }\n",
              "\n",
              "    [theme=dark] .colab-df-convert:hover {\n",
              "      background-color: #434B5C;\n",
              "      box-shadow: 0px 1px 3px 1px rgba(0, 0, 0, 0.15);\n",
              "      filter: drop-shadow(0px 1px 2px rgba(0, 0, 0, 0.3));\n",
              "      fill: #FFFFFF;\n",
              "    }\n",
              "  </style>\n",
              "\n",
              "    <script>\n",
              "      const buttonEl =\n",
              "        document.querySelector('#df-b40f00df-a56f-4a6c-8372-0c6b6900fdae button.colab-df-convert');\n",
              "      buttonEl.style.display =\n",
              "        google.colab.kernel.accessAllowed ? 'block' : 'none';\n",
              "\n",
              "      async function convertToInteractive(key) {\n",
              "        const element = document.querySelector('#df-b40f00df-a56f-4a6c-8372-0c6b6900fdae');\n",
              "        const dataTable =\n",
              "          await google.colab.kernel.invokeFunction('convertToInteractive',\n",
              "                                                    [key], {});\n",
              "        if (!dataTable) return;\n",
              "\n",
              "        const docLinkHtml = 'Like what you see? Visit the ' +\n",
              "          '<a target=\"_blank\" href=https://colab.research.google.com/notebooks/data_table.ipynb>data table notebook</a>'\n",
              "          + ' to learn more about interactive tables.';\n",
              "        element.innerHTML = '';\n",
              "        dataTable['output_type'] = 'display_data';\n",
              "        await google.colab.output.renderOutput(dataTable, element);\n",
              "        const docLink = document.createElement('div');\n",
              "        docLink.innerHTML = docLinkHtml;\n",
              "        element.appendChild(docLink);\n",
              "      }\n",
              "    </script>\n",
              "  </div>\n",
              "\n",
              "\n",
              "<div id=\"df-8d33123a-d39f-4901-8c8a-fafcf732bf61\">\n",
              "  <button class=\"colab-df-quickchart\" onclick=\"quickchart('df-8d33123a-d39f-4901-8c8a-fafcf732bf61')\"\n",
              "            title=\"Suggest charts\"\n",
              "            style=\"display:none;\">\n",
              "\n",
              "<svg xmlns=\"http://www.w3.org/2000/svg\" height=\"24px\"viewBox=\"0 0 24 24\"\n",
              "     width=\"24px\">\n",
              "    <g>\n",
              "        <path d=\"M19 3H5c-1.1 0-2 .9-2 2v14c0 1.1.9 2 2 2h14c1.1 0 2-.9 2-2V5c0-1.1-.9-2-2-2zM9 17H7v-7h2v7zm4 0h-2V7h2v10zm4 0h-2v-4h2v4z\"/>\n",
              "    </g>\n",
              "</svg>\n",
              "  </button>\n",
              "\n",
              "<style>\n",
              "  .colab-df-quickchart {\n",
              "      --bg-color: #E8F0FE;\n",
              "      --fill-color: #1967D2;\n",
              "      --hover-bg-color: #E2EBFA;\n",
              "      --hover-fill-color: #174EA6;\n",
              "      --disabled-fill-color: #AAA;\n",
              "      --disabled-bg-color: #DDD;\n",
              "  }\n",
              "\n",
              "  [theme=dark] .colab-df-quickchart {\n",
              "      --bg-color: #3B4455;\n",
              "      --fill-color: #D2E3FC;\n",
              "      --hover-bg-color: #434B5C;\n",
              "      --hover-fill-color: #FFFFFF;\n",
              "      --disabled-bg-color: #3B4455;\n",
              "      --disabled-fill-color: #666;\n",
              "  }\n",
              "\n",
              "  .colab-df-quickchart {\n",
              "    background-color: var(--bg-color);\n",
              "    border: none;\n",
              "    border-radius: 50%;\n",
              "    cursor: pointer;\n",
              "    display: none;\n",
              "    fill: var(--fill-color);\n",
              "    height: 32px;\n",
              "    padding: 0;\n",
              "    width: 32px;\n",
              "  }\n",
              "\n",
              "  .colab-df-quickchart:hover {\n",
              "    background-color: var(--hover-bg-color);\n",
              "    box-shadow: 0 1px 2px rgba(60, 64, 67, 0.3), 0 1px 3px 1px rgba(60, 64, 67, 0.15);\n",
              "    fill: var(--button-hover-fill-color);\n",
              "  }\n",
              "\n",
              "  .colab-df-quickchart-complete:disabled,\n",
              "  .colab-df-quickchart-complete:disabled:hover {\n",
              "    background-color: var(--disabled-bg-color);\n",
              "    fill: var(--disabled-fill-color);\n",
              "    box-shadow: none;\n",
              "  }\n",
              "\n",
              "  .colab-df-spinner {\n",
              "    border: 2px solid var(--fill-color);\n",
              "    border-color: transparent;\n",
              "    border-bottom-color: var(--fill-color);\n",
              "    animation:\n",
              "      spin 1s steps(1) infinite;\n",
              "  }\n",
              "\n",
              "  @keyframes spin {\n",
              "    0% {\n",
              "      border-color: transparent;\n",
              "      border-bottom-color: var(--fill-color);\n",
              "      border-left-color: var(--fill-color);\n",
              "    }\n",
              "    20% {\n",
              "      border-color: transparent;\n",
              "      border-left-color: var(--fill-color);\n",
              "      border-top-color: var(--fill-color);\n",
              "    }\n",
              "    30% {\n",
              "      border-color: transparent;\n",
              "      border-left-color: var(--fill-color);\n",
              "      border-top-color: var(--fill-color);\n",
              "      border-right-color: var(--fill-color);\n",
              "    }\n",
              "    40% {\n",
              "      border-color: transparent;\n",
              "      border-right-color: var(--fill-color);\n",
              "      border-top-color: var(--fill-color);\n",
              "    }\n",
              "    60% {\n",
              "      border-color: transparent;\n",
              "      border-right-color: var(--fill-color);\n",
              "    }\n",
              "    80% {\n",
              "      border-color: transparent;\n",
              "      border-right-color: var(--fill-color);\n",
              "      border-bottom-color: var(--fill-color);\n",
              "    }\n",
              "    90% {\n",
              "      border-color: transparent;\n",
              "      border-bottom-color: var(--fill-color);\n",
              "    }\n",
              "  }\n",
              "</style>\n",
              "\n",
              "  <script>\n",
              "    async function quickchart(key) {\n",
              "      const quickchartButtonEl =\n",
              "        document.querySelector('#' + key + ' button');\n",
              "      quickchartButtonEl.disabled = true;  // To prevent multiple clicks.\n",
              "      quickchartButtonEl.classList.add('colab-df-spinner');\n",
              "      try {\n",
              "        const charts = await google.colab.kernel.invokeFunction(\n",
              "            'suggestCharts', [key], {});\n",
              "      } catch (error) {\n",
              "        console.error('Error during call to suggestCharts:', error);\n",
              "      }\n",
              "      quickchartButtonEl.classList.remove('colab-df-spinner');\n",
              "      quickchartButtonEl.classList.add('colab-df-quickchart-complete');\n",
              "    }\n",
              "    (() => {\n",
              "      let quickchartButtonEl =\n",
              "        document.querySelector('#df-8d33123a-d39f-4901-8c8a-fafcf732bf61 button');\n",
              "      quickchartButtonEl.style.display =\n",
              "        google.colab.kernel.accessAllowed ? 'block' : 'none';\n",
              "    })();\n",
              "  </script>\n",
              "</div>\n",
              "\n",
              "    </div>\n",
              "  </div>\n"
            ],
            "text/plain": [
              "       resistant  susceptible  nonselected\n",
              "count  25.000000    25.000000    25.000000\n",
              "mean   25.256000    23.628000    33.372000\n",
              "std     7.772391     9.768466     8.942013\n",
              "min    12.800000    10.800000    14.900000\n",
              "25%    20.300000    16.000000    28.200000\n",
              "50%    23.600000    22.500000    34.400000\n",
              "75%    29.300000    30.200000    37.900000\n",
              "max    44.400000    48.500000    51.800000"
            ]
          },
          "execution_count": 8,
          "metadata": {},
          "output_type": "execute_result"
        }
      ],
      "source": [
        "df.describe()"
      ]
    },
    {
      "cell_type": "markdown",
      "metadata": {
        "id": "1a0E2_OHe5hM"
      },
      "source": [
        "Here we can see that the number of rows of data in all column are the same, which is good for us. The means and std are different, and therefore we should look closely into them later."
      ]
    },
    {
      "cell_type": "markdown",
      "metadata": {
        "id": "EYEh31shfFre"
      },
      "source": [
        "For now we can also look at the data disctribution and some basic plots"
      ]
    },
    {
      "cell_type": "code",
      "execution_count": 9,
      "metadata": {
        "colab": {
          "base_uri": "https://localhost:8080/",
          "height": 487
        },
        "id": "48k_NICk_OhV",
        "outputId": "f7ab9c5e-e74b-455c-aa73-6465cb843912"
      },
      "outputs": [
        {
          "data": {
            "image/png": "[encoded data removed]",
            "text/plain": [
              "<Figure size 1200x500 with 1 Axes>"
            ]
          },
          "metadata": {},
          "output_type": "display_data"
        }
      ],
      "source": [
        "# boxplot\n",
        "plt.figure(figsize=(12, 5))\n",
        "sns.boxplot(data=[RS,SS,NS], orient='h')\n",
        "plt.title('Box Plots of Fecundity for Different Groups')\n",
        "plt.ylabel('Fecundity')\n",
        "plt.xlabel('Group')\n",
        "plt.grid('True')\n",
        "plt.show()"
      ]
    },
    {
      "cell_type": "code",
      "execution_count": 10,
      "metadata": {
        "colab": {
          "base_uri": "https://localhost:8080/",
          "height": 1000
        },
        "id": "YBNpKmQCfLkE",
        "outputId": "bc34cbe1-f1a9-4f74-aee2-78c18039c8df"
      },
      "outputs": [
        {
          "data": {
            "image/png": "[encoded data removed]",
            "text/plain": [
              "<Figure size 800x600 with 1 Axes>"
            ]
          },
          "metadata": {},
          "output_type": "display_data"
        },
        {
          "data": {
            "image/png": "[encoded data removed]",
            "text/plain": [
              "<Figure size 800x600 with 1 Axes>"
            ]
          },
          "metadata": {},
          "output_type": "display_data"
        },
        {
          "data": {
            "image/png": "[encoded data removed]",
            "text/plain": [
              "<Figure size 800x600 with 1 Axes>"
            ]
          },
          "metadata": {},
          "output_type": "display_data"
        }
      ],
      "source": [
        "colors = ['blue', 'orange', 'green']\n",
        "\n",
        "# histogram for each column with a unique color\n",
        "for i, column in enumerate(df.columns):\n",
        "    plt.figure(figsize=(8, 6))\n",
        "    sns.histplot(df[column], kde=False, bins='auto', alpha=1, color=colors[i])\n",
        "    plt.title(f\"Histogram of {column}\")\n",
        "    plt.xlabel(\"Values\")\n",
        "    plt.ylabel(\"Frequency\")\n",
        "    plt.grid(True, linestyle='--', alpha=0.7)\n",
        "    plt.show()"
      ]
    },
    {
      "cell_type": "code",
      "execution_count": 11,
      "metadata": {
        "colab": {
          "base_uri": "https://localhost:8080/"
        },
        "id": "YObZX6XW-tVS",
        "outputId": "12b4f738-8572-4782-ae87-1e567969a758"
      },
      "outputs": [
        {
          "data": {
            "text/plain": [
              "(25, 25, 25)"
            ]
          },
          "execution_count": 11,
          "metadata": {},
          "output_type": "execute_result"
        }
      ],
      "source": [
        "# to count number of data inputs\n",
        "\n",
        "rs_count = RS.count()\n",
        "ss_count = SS.count()\n",
        "ns_count = NS.count()\n",
        "\n",
        "rs_count, ss_count, ns_count"
      ]
    },
    {
      "cell_type": "markdown",
      "metadata": {
        "id": "BwdaCF_t7fVS"
      },
      "source": [
        "Now lets calculate some data for further analysis and save then into varibles thus we can use them later"
      ]
    },
    {
      "cell_type": "code",
      "execution_count": 12,
      "metadata": {
        "colab": {
          "base_uri": "https://localhost:8080/"
        },
        "id": "Bn7pKmYL7mRj",
        "outputId": "34cd0a15-8ddf-41f2-c199-e363600a4a85"
      },
      "outputs": [
        {
          "data": {
            "text/plain": [
              "(25.256000000000004, 23.627999999999997, 33.372, 27.418666666666667)"
            ]
          },
          "execution_count": 12,
          "metadata": {},
          "output_type": "execute_result"
        }
      ],
      "source": [
        "rs_mean = RS.mean()\n",
        "ss_mean = SS.mean()\n",
        "ns_mean = NS.mean()\n",
        "\n",
        "#overall mean\n",
        "overall_mean = (rs_mean + ss_mean + ns_mean)/3\n",
        "\n",
        "rs_mean, ss_mean, ns_mean, overall_mean"
      ]
    },
    {
      "cell_type": "markdown",
      "metadata": {
        "id": "fF9VGhaM8sIp"
      },
      "source": [
        "Now lests calculate the standart deviation and other metrics"
      ]
    },
    {
      "cell_type": "code",
      "execution_count": 13,
      "metadata": {
        "colab": {
          "base_uri": "https://localhost:8080/"
        },
        "id": "VHGonLfw8rhE",
        "outputId": "357003f1-f150-4b29-a52e-bda232fc9111"
      },
      "outputs": [
        {
          "data": {
            "text/plain": [
              "(7.615357115723464, 9.571103175705506, 8.761347841513883)"
            ]
          },
          "execution_count": 13,
          "metadata": {},
          "output_type": "execute_result"
        }
      ],
      "source": [
        "def calculate_std_dev(data):\n",
        "  n = len(data)\n",
        "  if n == 0:\n",
        "    return 0  # handle empty data case\n",
        "\n",
        "  mean = sum(data) / n\n",
        "  variance = sum([(x - mean) ** 2 for x in data]) / n\n",
        "  std_dev = math.sqrt(variance)\n",
        "  return std_dev\n",
        "\n",
        "rs_std_dev = calculate_std_dev(RS.dropna().tolist()) # handle potential NaN values\n",
        "ss_std_dev = calculate_std_dev(SS.dropna().tolist())\n",
        "ns_std_dev = calculate_std_dev(NS.dropna().tolist())\n",
        "\n",
        "rs_std_dev, ss_std_dev, ns_std_dev"
      ]
    },
    {
      "cell_type": "code",
      "execution_count": 14,
      "metadata": {
        "colab": {
          "base_uri": "https://localhost:8080/"
        },
        "id": "MtQj8uUsUPDs",
        "outputId": "963d6273-7127-4110-8a57-a169a1ac882a"
      },
      "outputs": [
        {
          "name": "stdout",
          "output_type": "stream",
          "text": [
            "Pooled Standard Deviation (s_pooled): 8.686405010129334\n"
          ]
        }
      ],
      "source": [
        "import math\n",
        "\n",
        "k = df.shape[1]  # number of groups\n",
        "n = rs_count + ss_count + ns_count  # total number of observations\n",
        "\n",
        "# Variances for each group (square of standard deviation)\n",
        "rs_variance = rs_std_dev ** 2\n",
        "ss_variance = ss_std_dev ** 2\n",
        "ns_variance = ns_std_dev ** 2\n",
        "\n",
        "# Degrees of freedom for each group\n",
        "df_rs = rs_count - 1\n",
        "df_ss = ss_count - 1\n",
        "df_ns = ns_count - 1\n",
        "\n",
        "# Pooled standard deviation calculation\n",
        "pooled_variance = (\n",
        "    (df_rs * rs_variance) +\n",
        "    (df_ss * ss_variance) +\n",
        "    (df_ns * ns_variance)\n",
        ") / (n - k)  # n - k is the total degrees of freedom\n",
        "\n",
        "s_pooled = math.sqrt(pooled_variance)\n",
        "\n",
        "print(f\"Pooled Standard Deviation (s_pooled): {s_pooled}\")"
      ]
    },
    {
      "cell_type": "code",
      "execution_count": 15,
      "metadata": {
        "colab": {
          "base_uri": "https://localhost:8080/"
        },
        "id": "D-NFFJTvURny",
        "outputId": "6c306d14-82ec-4ad2-84e0-ebda3e0af2eb"
      },
      "outputs": [
        {
          "name": "stdout",
          "output_type": "stream",
          "text": [
            "1391.847936\n",
            "2198.5443840000007\n",
            "1842.2691839999993\n"
          ]
        },
        {
          "data": {
            "text/plain": [
              "5432.661504"
            ]
          },
          "execution_count": 15,
          "metadata": {},
          "output_type": "execute_result"
        }
      ],
      "source": [
        "SS_within = (\n",
        "    (rs_count - 1) * rs_variance +\n",
        "    (ss_count - 1) * ss_variance +\n",
        "    (ns_count - 1) * ns_variance\n",
        ")\n",
        "\n",
        "print((rs_count - 1) * rs_variance)\n",
        "print((ss_count - 1) * ss_variance)\n",
        "print((ns_count - 1) * ns_variance)\n",
        "\n",
        "SS_within"
      ]
    },
    {
      "cell_type": "markdown",
      "metadata": {
        "id": "mivSACxHBf8C"
      },
      "source": [
        "Now, as we have several column and their means, we can also try ANOVE one side test, for taht we'll also need to calculate SSR"
      ]
    },
    {
      "cell_type": "code",
      "execution_count": 16,
      "metadata": {
        "colab": {
          "base_uri": "https://localhost:8080/"
        },
        "id": "zxn9vLfj9iaS",
        "outputId": "8acec144-56e9-45eb-9ca4-81cdb3dfe21c"
      },
      "outputs": [
        {
          "name": "stdout",
          "output_type": "stream",
          "text": [
            "SS_between: 1362.2114666666666\n"
          ]
        }
      ],
      "source": [
        "# calculate SS_between\n",
        "SS_between = rs_count * (rs_mean - overall_mean)**2 + ss_count * (ss_mean - overall_mean)**2 + ns_count * (ns_mean - overall_mean)**2\n",
        "print(\"SS_between:\", SS_between)"
      ]
    },
    {
      "cell_type": "markdown",
      "metadata": {
        "id": "tqUkvUi8CqKJ"
      },
      "source": [
        "Step 4: Calculate SST."
      ]
    },
    {
      "cell_type": "code",
      "execution_count": 17,
      "metadata": {
        "colab": {
          "base_uri": "https://localhost:8080/"
        },
        "id": "Yb1DUdlaCrBF",
        "outputId": "2edf437e-b267-4ed8-ac39-c8eb847d5372"
      },
      "outputs": [
        {
          "name": "stdout",
          "output_type": "stream",
          "text": [
            "SS_toatl: 6794.872970666666\n"
          ]
        }
      ],
      "source": [
        "SS_total = SS_between + SS_within\n",
        "print(\"SS_toatl:\", SS_total)"
      ]
    },
    {
      "cell_type": "markdown",
      "metadata": {
        "id": "nBLkmNedCzRm"
      },
      "source": [
        "Step 5: Fill in the ANOVA table."
      ]
    },
    {
      "cell_type": "code",
      "execution_count": 18,
      "metadata": {
        "colab": {
          "base_uri": "https://localhost:8080/",
          "height": 144
        },
        "id": "2IQUNAqzE6CA",
        "outputId": "1726df19-57e6-4818-c7c9-5ba621df7c34"
      },
      "outputs": [
        {
          "data": {
            "application/vnd.google.colaboratory.intrinsic+json": {
              "summary": "{\n  \"name\": \"anova_table\",\n  \"rows\": 3,\n  \"fields\": [\n    {\n      \"column\": \"Source\",\n      \"properties\": {\n        \"dtype\": \"string\",\n        \"num_unique_values\": 3,\n        \"samples\": [\n          \"Between Groups\",\n          \"Within Groups\",\n          \"Total\"\n        ],\n        \"semantic_type\": \"\",\n        \"description\": \"\"\n      }\n    },\n    {\n      \"column\": \"Sum of Squares\",\n      \"properties\": {\n        \"dtype\": \"number\",\n        \"std\": 2826.599682875422,\n        \"min\": 1362.2114666666666,\n        \"max\": 6794.872970666666,\n        \"num_unique_values\": 3,\n        \"samples\": [\n          1362.2114666666666,\n          5432.661504,\n          6794.872970666666\n        ],\n        \"semantic_type\": \"\",\n        \"description\": \"\"\n      }\n    },\n    {\n      \"column\": \"Degrees of Freedom\",\n      \"properties\": {\n        \"dtype\": \"number\",\n        \"std\": 41,\n        \"min\": 2,\n        \"max\": 74,\n        \"num_unique_values\": 3,\n        \"samples\": [\n          2,\n          72,\n          74\n        ],\n        \"semantic_type\": \"\",\n        \"description\": \"\"\n      }\n    },\n    {\n      \"column\": \"Mean Square\",\n      \"properties\": {\n        \"dtype\": \"date\",\n        \"min\": \"1970-01-01 00:00:00.000000075\",\n        \"max\": \"1970-01-01 00:00:00.000000681\",\n        \"num_unique_values\": 3,\n        \"samples\": [\n          681.1057333333333,\n          75.453632,\n          \"\"\n        ],\n        \"semantic_type\": \"\",\n        \"description\": \"\"\n      }\n    },\n    {\n      \"column\": \"F-statistic\",\n      \"properties\": {\n        \"dtype\": \"date\",\n        \"min\": \"1970-01-01 00:00:00.000000009\",\n        \"max\": \"1970-01-01 00:00:00.000000009\",\n        \"num_unique_values\": 2,\n        \"samples\": [\n          \"\",\n          9.026811768760625\n        ],\n        \"semantic_type\": \"\",\n        \"description\": \"\"\n      }\n    },\n    {\n      \"column\": \"p-value\",\n      \"properties\": {\n        \"dtype\": \"date\",\n        \"min\": \"1970-01-01 00:00:00\",\n        \"max\": \"1970-01-01 00:00:00\",\n        \"num_unique_values\": 2,\n        \"samples\": [\n          \"\",\n          0.0003176339703111274\n        ],\n        \"semantic_type\": \"\",\n        \"description\": \"\"\n      }\n    }\n  ]\n}",
              "type": "dataframe",
              "variable_name": "anova_table"
            },
            "text/html": [
              "\n",
              "  <div id=\"df-c9968d5d-b864-45cf-9eef-040f0caeeeff\" class=\"colab-df-container\">\n",
              "    <div>\n",
              "<style scoped>\n",
              "    .dataframe tbody tr th:only-of-type {\n",
              "        vertical-align: middle;\n",
              "    }\n",
              "\n",
              "    .dataframe tbody tr th {\n",
              "        vertical-align: top;\n",
              "    }\n",
              "\n",
              "    .dataframe thead th {\n",
              "        text-align: right;\n",
              "    }\n",
              "</style>\n",
              "<table border=\"1\" class=\"dataframe\">\n",
              "  <thead>\n",
              "    <tr style=\"text-align: right;\">\n",
              "      <th></th>\n",
              "      <th>Source</th>\n",
              "      <th>Sum of Squares</th>\n",
              "      <th>Degrees of Freedom</th>\n",
              "      <th>Mean Square</th>\n",
              "      <th>F-statistic</th>\n",
              "      <th>p-value</th>\n",
              "    </tr>\n",
              "  </thead>\n",
              "  <tbody>\n",
              "    <tr>\n",
              "      <th>0</th>\n",
              "      <td>Between Groups</td>\n",
              "      <td>1362.211467</td>\n",
              "      <td>2</td>\n",
              "      <td>681.105733</td>\n",
              "      <td>9.026812</td>\n",
              "      <td>0.000318</td>\n",
              "    </tr>\n",
              "    <tr>\n",
              "      <th>1</th>\n",
              "      <td>Within Groups</td>\n",
              "      <td>5432.661504</td>\n",
              "      <td>72</td>\n",
              "      <td>75.453632</td>\n",
              "      <td></td>\n",
              "      <td></td>\n",
              "    </tr>\n",
              "    <tr>\n",
              "      <th>2</th>\n",
              "      <td>Total</td>\n",
              "      <td>6794.872971</td>\n",
              "      <td>74</td>\n",
              "      <td></td>\n",
              "      <td></td>\n",
              "      <td></td>\n",
              "    </tr>\n",
              "  </tbody>\n",
              "</table>\n",
              "</div>\n",
              "    <div class=\"colab-df-buttons\">\n",
              "\n",
              "  <div class=\"colab-df-container\">\n",
              "    <button class=\"colab-df-convert\" onclick=\"convertToInteractive('df-c9968d5d-b864-45cf-9eef-040f0caeeeff')\"\n",
              "            title=\"Convert this dataframe to an interactive table.\"\n",
              "            style=\"display:none;\">\n",
              "\n",
              "  <svg xmlns=\"http://www.w3.org/2000/svg\" height=\"24px\" viewBox=\"0 -960 960 960\">\n",
              "    <path d=\"M120-120v-720h720v720H120Zm60-500h600v-160H180v160Zm220 220h160v-160H400v160Zm0 220h160v-160H400v160ZM180-400h160v-160H180v160Zm440 0h160v-160H620v160ZM180-180h160v-160H180v160Zm440 0h160v-160H620v160Z\"/>\n",
              "  </svg>\n",
              "    </button>\n",
              "\n",
              "  <style>\n",
              "    .colab-df-container {\n",
              "      display:flex;\n",
              "      gap: 12px;\n",
              "    }\n",
              "\n",
              "    .colab-df-convert {\n",
              "      background-color: #E8F0FE;\n",
              "      border: none;\n",
              "      border-radius: 50%;\n",
              "      cursor: pointer;\n",
              "      display: none;\n",
              "      fill: #1967D2;\n",
              "      height: 32px;\n",
              "      padding: 0 0 0 0;\n",
              "      width: 32px;\n",
              "    }\n",
              "\n",
              "    .colab-df-convert:hover {\n",
              "      background-color: #E2EBFA;\n",
              "      box-shadow: 0px 1px 2px rgba(60, 64, 67, 0.3), 0px 1px 3px 1px rgba(60, 64, 67, 0.15);\n",
              "      fill: #174EA6;\n",
              "    }\n",
              "\n",
              "    .colab-df-buttons div {\n",
              "      margin-bottom: 4px;\n",
              "    }\n",
              "\n",
              "    [theme=dark] .colab-df-convert {\n",
              "      background-color: #3B4455;\n",
              "      fill: #D2E3FC;\n",
              "    }\n",
              "\n",
              "    [theme=dark] .colab-df-convert:hover {\n",
              "      background-color: #434B5C;\n",
              "      box-shadow: 0px 1px 3px 1px rgba(0, 0, 0, 0.15);\n",
              "      filter: drop-shadow(0px 1px 2px rgba(0, 0, 0, 0.3));\n",
              "      fill: #FFFFFF;\n",
              "    }\n",
              "  </style>\n",
              "\n",
              "    <script>\n",
              "      const buttonEl =\n",
              "        document.querySelector('#df-c9968d5d-b864-45cf-9eef-040f0caeeeff button.colab-df-convert');\n",
              "      buttonEl.style.display =\n",
              "        google.colab.kernel.accessAllowed ? 'block' : 'none';\n",
              "\n",
              "      async function convertToInteractive(key) {\n",
              "        const element = document.querySelector('#df-c9968d5d-b864-45cf-9eef-040f0caeeeff');\n",
              "        const dataTable =\n",
              "          await google.colab.kernel.invokeFunction('convertToInteractive',\n",
              "                                                    [key], {});\n",
              "        if (!dataTable) return;\n",
              "\n",
              "        const docLinkHtml = 'Like what you see? Visit the ' +\n",
              "          '<a target=\"_blank\" href=https://colab.research.google.com/notebooks/data_table.ipynb>data table notebook</a>'\n",
              "          + ' to learn more about interactive tables.';\n",
              "        element.innerHTML = '';\n",
              "        dataTable['output_type'] = 'display_data';\n",
              "        await google.colab.output.renderOutput(dataTable, element);\n",
              "        const docLink = document.createElement('div');\n",
              "        docLink.innerHTML = docLinkHtml;\n",
              "        element.appendChild(docLink);\n",
              "      }\n",
              "    </script>\n",
              "  </div>\n",
              "\n",
              "\n",
              "<div id=\"df-0bde3865-8afa-43b6-a09a-f2cbb88af1d6\">\n",
              "  <button class=\"colab-df-quickchart\" onclick=\"quickchart('df-0bde3865-8afa-43b6-a09a-f2cbb88af1d6')\"\n",
              "            title=\"Suggest charts\"\n",
              "            style=\"display:none;\">\n",
              "\n",
              "<svg xmlns=\"http://www.w3.org/2000/svg\" height=\"24px\"viewBox=\"0 0 24 24\"\n",
              "     width=\"24px\">\n",
              "    <g>\n",
              "        <path d=\"M19 3H5c-1.1 0-2 .9-2 2v14c0 1.1.9 2 2 2h14c1.1 0 2-.9 2-2V5c0-1.1-.9-2-2-2zM9 17H7v-7h2v7zm4 0h-2V7h2v10zm4 0h-2v-4h2v4z\"/>\n",
              "    </g>\n",
              "</svg>\n",
              "  </button>\n",
              "\n",
              "<style>\n",
              "  .colab-df-quickchart {\n",
              "      --bg-color: #E8F0FE;\n",
              "      --fill-color: #1967D2;\n",
              "      --hover-bg-color: #E2EBFA;\n",
              "      --hover-fill-color: #174EA6;\n",
              "      --disabled-fill-color: #AAA;\n",
              "      --disabled-bg-color: #DDD;\n",
              "  }\n",
              "\n",
              "  [theme=dark] .colab-df-quickchart {\n",
              "      --bg-color: #3B4455;\n",
              "      --fill-color: #D2E3FC;\n",
              "      --hover-bg-color: #434B5C;\n",
              "      --hover-fill-color: #FFFFFF;\n",
              "      --disabled-bg-color: #3B4455;\n",
              "      --disabled-fill-color: #666;\n",
              "  }\n",
              "\n",
              "  .colab-df-quickchart {\n",
              "    background-color: var(--bg-color);\n",
              "    border: none;\n",
              "    border-radius: 50%;\n",
              "    cursor: pointer;\n",
              "    display: none;\n",
              "    fill: var(--fill-color);\n",
              "    height: 32px;\n",
              "    padding: 0;\n",
              "    width: 32px;\n",
              "  }\n",
              "\n",
              "  .colab-df-quickchart:hover {\n",
              "    background-color: var(--hover-bg-color);\n",
              "    box-shadow: 0 1px 2px rgba(60, 64, 67, 0.3), 0 1px 3px 1px rgba(60, 64, 67, 0.15);\n",
              "    fill: var(--button-hover-fill-color);\n",
              "  }\n",
              "\n",
              "  .colab-df-quickchart-complete:disabled,\n",
              "  .colab-df-quickchart-complete:disabled:hover {\n",
              "    background-color: var(--disabled-bg-color);\n",
              "    fill: var(--disabled-fill-color);\n",
              "    box-shadow: none;\n",
              "  }\n",
              "\n",
              "  .colab-df-spinner {\n",
              "    border: 2px solid var(--fill-color);\n",
              "    border-color: transparent;\n",
              "    border-bottom-color: var(--fill-color);\n",
              "    animation:\n",
              "      spin 1s steps(1) infinite;\n",
              "  }\n",
              "\n",
              "  @keyframes spin {\n",
              "    0% {\n",
              "      border-color: transparent;\n",
              "      border-bottom-color: var(--fill-color);\n",
              "      border-left-color: var(--fill-color);\n",
              "    }\n",
              "    20% {\n",
              "      border-color: transparent;\n",
              "      border-left-color: var(--fill-color);\n",
              "      border-top-color: var(--fill-color);\n",
              "    }\n",
              "    30% {\n",
              "      border-color: transparent;\n",
              "      border-left-color: var(--fill-color);\n",
              "      border-top-color: var(--fill-color);\n",
              "      border-right-color: var(--fill-color);\n",
              "    }\n",
              "    40% {\n",
              "      border-color: transparent;\n",
              "      border-right-color: var(--fill-color);\n",
              "      border-top-color: var(--fill-color);\n",
              "    }\n",
              "    60% {\n",
              "      border-color: transparent;\n",
              "      border-right-color: var(--fill-color);\n",
              "    }\n",
              "    80% {\n",
              "      border-color: transparent;\n",
              "      border-right-color: var(--fill-color);\n",
              "      border-bottom-color: var(--fill-color);\n",
              "    }\n",
              "    90% {\n",
              "      border-color: transparent;\n",
              "      border-bottom-color: var(--fill-color);\n",
              "    }\n",
              "  }\n",
              "</style>\n",
              "\n",
              "  <script>\n",
              "    async function quickchart(key) {\n",
              "      const quickchartButtonEl =\n",
              "        document.querySelector('#' + key + ' button');\n",
              "      quickchartButtonEl.disabled = true;  // To prevent multiple clicks.\n",
              "      quickchartButtonEl.classList.add('colab-df-spinner');\n",
              "      try {\n",
              "        const charts = await google.colab.kernel.invokeFunction(\n",
              "            'suggestCharts', [key], {});\n",
              "      } catch (error) {\n",
              "        console.error('Error during call to suggestCharts:', error);\n",
              "      }\n",
              "      quickchartButtonEl.classList.remove('colab-df-spinner');\n",
              "      quickchartButtonEl.classList.add('colab-df-quickchart-complete');\n",
              "    }\n",
              "    (() => {\n",
              "      let quickchartButtonEl =\n",
              "        document.querySelector('#df-0bde3865-8afa-43b6-a09a-f2cbb88af1d6 button');\n",
              "      quickchartButtonEl.style.display =\n",
              "        google.colab.kernel.accessAllowed ? 'block' : 'none';\n",
              "    })();\n",
              "  </script>\n",
              "</div>\n",
              "\n",
              "  <div id=\"id_939012e0-215c-4f36-9d4f-b7ae39a73231\">\n",
              "    <style>\n",
              "      .colab-df-generate {\n",
              "        background-color: #E8F0FE;\n",
              "        border: none;\n",
              "        border-radius: 50%;\n",
              "        cursor: pointer;\n",
              "        display: none;\n",
              "        fill: #1967D2;\n",
              "        height: 32px;\n",
              "        padding: 0 0 0 0;\n",
              "        width: 32px;\n",
              "      }\n",
              "\n",
              "      .colab-df-generate:hover {\n",
              "        background-color: #E2EBFA;\n",
              "        box-shadow: 0px 1px 2px rgba(60, 64, 67, 0.3), 0px 1px 3px 1px rgba(60, 64, 67, 0.15);\n",
              "        fill: #174EA6;\n",
              "      }\n",
              "\n",
              "      [theme=dark] .colab-df-generate {\n",
              "        background-color: #3B4455;\n",
              "        fill: #D2E3FC;\n",
              "      }\n",
              "\n",
              "      [theme=dark] .colab-df-generate:hover {\n",
              "        background-color: #434B5C;\n",
              "        box-shadow: 0px 1px 3px 1px rgba(0, 0, 0, 0.15);\n",
              "        filter: drop-shadow(0px 1px 2px rgba(0, 0, 0, 0.3));\n",
              "        fill: #FFFFFF;\n",
              "      }\n",
              "    </style>\n",
              "    <button class=\"colab-df-generate\" onclick=\"generateWithVariable('anova_table')\"\n",
              "            title=\"Generate code using this dataframe.\"\n",
              "            style=\"display:none;\">\n",
              "\n",
              "  <svg xmlns=\"http://www.w3.org/2000/svg\" height=\"24px\"viewBox=\"0 0 24 24\"\n",
              "       width=\"24px\">\n",
              "    <path d=\"M7,19H8.4L18.45,9,17,7.55,7,17.6ZM5,21V16.75L18.45,3.32a2,2,0,0,1,2.83,0l1.4,1.43a1.91,1.91,0,0,1,.58,1.4,1.91,1.91,0,0,1-.58,1.4L9.25,21ZM18.45,9,17,7.55Zm-12,3A5.31,5.31,0,0,0,4.9,8.1,5.31,5.31,0,0,0,1,6.5,5.31,5.31,0,0,0,4.9,4.9,5.31,5.31,0,0,0,6.5,1,5.31,5.31,0,0,0,8.1,4.9,5.31,5.31,0,0,0,12,6.5,5.46,5.46,0,0,0,6.5,12Z\"/>\n",
              "  </svg>\n",
              "    </button>\n",
              "    <script>\n",
              "      (() => {\n",
              "      const buttonEl =\n",
              "        document.querySelector('#id_939012e0-215c-4f36-9d4f-b7ae39a73231 button.colab-df-generate');\n",
              "      buttonEl.style.display =\n",
              "        google.colab.kernel.accessAllowed ? 'block' : 'none';\n",
              "\n",
              "      buttonEl.onclick = () => {\n",
              "        google.colab.notebook.generateWithVariable('anova_table');\n",
              "      }\n",
              "      })();\n",
              "    </script>\n",
              "  </div>\n",
              "\n",
              "    </div>\n",
              "  </div>\n"
            ],
            "text/plain": [
              "           Source  Sum of Squares  Degrees of Freedom Mean Square F-statistic  \\\n",
              "0  Between Groups     1362.211467                   2  681.105733    9.026812   \n",
              "1   Within Groups     5432.661504                  72   75.453632               \n",
              "2           Total     6794.872971                  74                           \n",
              "\n",
              "    p-value  \n",
              "0  0.000318  \n",
              "1            \n",
              "2            "
            ]
          },
          "execution_count": 18,
          "metadata": {},
          "output_type": "execute_result"
        }
      ],
      "source": [
        "# the actuall ANOVA one way table\n",
        "from scipy.stats import f\n",
        "\n",
        "k = df.shape[1]  # number of groups\n",
        "n = rs_count + ss_count + ns_count  # total number of observations\n",
        "\n",
        "# degrees of freedom\n",
        "df_between = k - 1\n",
        "df_within = n - k\n",
        "df_total = n - 1\n",
        "\n",
        "# mean squares\n",
        "MS_between = SS_between / df_between\n",
        "MS_within = SS_within / df_within\n",
        "\n",
        "# F-statistic\n",
        "F = MS_between / MS_within\n",
        "\n",
        "# p-value is calculated using approximation, as we are not using scipy.stats\n",
        "# yet in a more accurate way, we'd use a statistical table for accurate p-value.\n",
        "\n",
        "p_value = f.sf(F, df_between, df_within)\n",
        "\n",
        "# ANOVA table as a data frame\n",
        "anova_table = pd.DataFrame({\n",
        "    'Source': ['Between Groups', 'Within Groups', 'Total'],\n",
        "    'Sum of Squares': [SS_between, SS_within, SS_total],\n",
        "    'Degrees of Freedom': [df_between, df_within, df_total],\n",
        "    'Mean Square': [MS_between, MS_within, ''],  # Mean Square for Total is not defined\n",
        "    'F-statistic': [F, '', ''],\n",
        "    'p-value': [p_value, '', '']\n",
        "})\n",
        "\n",
        "\n",
        "anova_table"
      ]
    },
    {
      "cell_type": "code",
      "execution_count": 19,
      "metadata": {
        "colab": {
          "base_uri": "https://localhost:8080/"
        },
        "id": "oDqp6yttCrFi",
        "outputId": "fa38658c-2615-48c5-ceb1-c924f028aecd"
      },
      "outputs": [
        {
          "name": "stdout",
          "output_type": "stream",
          "text": [
            "The differences between the groups are statistically significant.\n"
          ]
        }
      ],
      "source": [
        "if p_value < 0.05:\n",
        "    print(\"The differences between the groups are statistically significant.\")\n",
        "else:\n",
        "    print(\"The differences between the groups are not statistically significant.\")\n"
      ]
    },
    {
      "cell_type": "markdown",
      "metadata": {
        "id": "5T85FlCBv5Ei"
      },
      "source": [
        "Normality check:\n",
        "1) Quantile plot\n",
        "2) Shapiro test"
      ]
    },
    {
      "cell_type": "code",
      "execution_count": 30,
      "metadata": {
        "colab": {
          "base_uri": "https://localhost:8080/",
          "height": 507
        },
        "id": "D8Fn14c9wIjK",
        "outputId": "5a9656be-05d2-41c6-aed3-483aeb7662bf"
      },
      "outputs": [
        {
          "data": {
            "image/png": "[encoded data removed]",
            "text/plain": [
              "<Figure size 1600x500 with 3 Axes>"
            ]
          },
          "metadata": {},
          "output_type": "display_data"
        }
      ],
      "source": [
        "import matplotlib.pyplot as plt\n",
        "import scipy.stats as stats\n",
        "\n",
        "# Create Q-Q plots for resistant and susceptible groups\n",
        "fig, axes = plt.subplots(1, 3, figsize=(16, 5))\n",
        "\n",
        "# Q-Q plot for resistant group\n",
        "stats.probplot(RS, dist=\"norm\", plot=axes[0])\n",
        "axes[0].set_title(\"Q-Q Plot: Resistant Group\")\n",
        "\n",
        "# Q-Q plot for susceptible group\n",
        "stats.probplot(SS, dist=\"norm\", plot=axes[1])\n",
        "axes[1].set_title(\"Q-Q Plot: Susceptible Group\")\n",
        "\n",
        "# Q-Q plot for susceptible group\n",
        "stats.probplot(NS, dist=\"norm\", plot=axes[2])\n",
        "axes[2].set_title(\"Q-Q Plot: Non-resistant Group\")\n",
        "\n",
        "plt.tight_layout()\n",
        "plt.show()\n"
      ]
    },
    {
      "cell_type": "markdown",
      "metadata": {
        "id": "w0StCkujx_2j"
      },
      "source": [
        "The quantile plots show that the data aligns closely to a straight line for both cases. From this we can infere that thw data follows a normal distribution.\\\n",
        "To double check this, we can do a Shapiro-Wilk test, which follows:"
      ]
    },
    {
      "cell_type": "code",
      "execution_count": 31,
      "metadata": {
        "colab": {
          "base_uri": "https://localhost:8080/"
        },
        "id": "MdkIiHuKyieO",
        "outputId": "0bf7e948-ffdd-4c57-9db8-8106c5155352"
      },
      "outputs": [
        {
          "data": {
            "text/plain": [
              "(ShapiroResult(statistic=0.9495586099607479, pvalue=0.245042108356689),\n",
              " ShapiroResult(statistic=0.9395615849093654, pvalue=0.14461774945339412))"
            ]
          },
          "execution_count": 31,
          "metadata": {},
          "output_type": "execute_result"
        }
      ],
      "source": [
        "from scipy.stats import shapiro, levene, ttest_ind\n",
        "\n",
        "# Check for normality using Shapiro-Wilk test\n",
        "normality_resistant = shapiro(RS)\n",
        "normality_susceptible = shapiro(SS)\n",
        "\n",
        "normality_resistant, normality_susceptible\n"
      ]
    },
    {
      "cell_type": "markdown",
      "metadata": {
        "id": "whIb9PCk1pmC"
      },
      "source": [
        "Both p-values are greater than 0.05, therefore the data is normally distributed. Explanation on this on the overleaf document."
      ]
    },
    {
      "cell_type": "markdown",
      "metadata": {
        "id": "iiWqntqE1-h9"
      },
      "source": [
        "Analyisis for Part 2: Did the line selected for resistance differ in fecundity from the line selected for susceptibility?\n",
        "H0: RS = SS , H1: RS =! SS\n",
        "We perform a t-test:"
      ]
    },
    {
      "cell_type": "code",
      "execution_count": 32,
      "metadata": {
        "colab": {
          "base_uri": "https://localhost:8080/"
        },
        "id": "6rsrMRGj2EyM",
        "outputId": "01605ad3-68ee-4000-fce5-1b0e183651c0"
      },
      "outputs": [
        {
          "name": "stdout",
          "output_type": "stream",
          "text": [
            "The SE of the difference is:  2.4462189599461452  and the t statistic is:  0.6655168759038024\n"
          ]
        }
      ],
      "source": [
        "diff_means = rs_mean - ss_mean #Difference of the means\n",
        "SE_diff = math.sqrt((rs_std_dev**2 / rs_count) + (ss_std_dev**2 / ss_count)) #standard error of the difference of the means\n",
        "t_s = (diff_means-0)/SE_diff #t statistics\n",
        "print(\"The SE of the difference is: \", str(SE_diff), \" and the t statistic is: \", str(t_s))"
      ]
    },
    {
      "cell_type": "code",
      "execution_count": 33,
      "metadata": {
        "colab": {
          "base_uri": "https://localhost:8080/"
        },
        "id": "D1BxvdVi7JUy",
        "outputId": "fb8b908d-86b0-4a25-e2ee-c147e3b7e655"
      },
      "outputs": [
        {
          "name": "stdout",
          "output_type": "stream",
          "text": [
            "The p value is:  0.5090656597345964\n"
          ]
        }
      ],
      "source": [
        "#Calculate the degrees of freedom\n",
        "SE_rs = rs_std_dev / math.sqrt(rs_count)\n",
        "SE_ss = ss_std_dev / math.sqrt(ss_count)\n",
        "degFreadom = (SE_rs**2 + SE_ss**2)**2/(SE_rs**4/(rs_count-1)+SE_ss**4/(ss_count-1))\n",
        "\n",
        "#Calculate p-value\n",
        "p = stats.t.sf(np.abs(t_s), degFreadom)\n",
        "p = p*2\n",
        "print(\"The p value is: \", str(p))"
      ]
    },
    {
      "cell_type": "markdown",
      "metadata": {
        "id": "Vulv4oKB97GM"
      },
      "source": [
        "If we choose alpha = 0.05 and we compare it with the p-value obtained, we can see that the p-value is larger than alpha. This means that there is no evidence to reject H0, meaning that we have no evidence that the RS is any different than the SS group."
      ]
    },
    {
      "cell_type": "code",
      "execution_count": 34,
      "metadata": {
        "colab": {
          "base_uri": "https://localhost:8080/",
          "height": 453
        },
        "id": "CYeaVPnRltPE",
        "outputId": "ec6bd179-078a-488f-f5cc-8d36993d5916"
      },
      "outputs": [
        {
          "name": "stdout",
          "output_type": "stream",
          "text": [
            "      Multiple Comparison of Means - Tukey HSD, FWER=0.05      \n",
            "===============================================================\n",
            "   group1      group2   meandiff p-adj   lower    upper  reject\n",
            "---------------------------------------------------------------\n",
            "nonselected   resistant   -8.116 0.0051 -14.1169 -2.1151   True\n",
            "nonselected susceptible   -9.744 0.0007 -15.7449 -3.7431   True\n",
            "  resistant susceptible   -1.628 0.7934  -7.6289  4.3729  False\n",
            "---------------------------------------------------------------\n"
          ]
        },
        {
          "data": {
            "image/png": "[encoded data removed]",
            "text/plain": [
              "<Figure size 1000x300 with 1 Axes>"
            ]
          },
          "metadata": {},
          "output_type": "display_data"
        }
      ],
      "source": [
        "from statsmodels.stats.multicomp import pairwise_tukeyhsd\n",
        "import matplotlib.pyplot as plt\n",
        "\n",
        "data_melted = df.melt(var_name='Group', value_name='Value')\n",
        "\n",
        "tukey_test = pairwise_tukeyhsd(endog=data_melted['Value'],  # Numerical values\n",
        "                               groups=data_melted['Group'],  # Groups\n",
        "                               alpha=0.05)\n",
        "\n",
        "print(tukey_test.summary())\n",
        "\n",
        "\n",
        "fig = tukey_test.plot_simultaneous()\n",
        "fig.set_size_inches(10, 3)\n",
        "plt.title('Tukey HSD Test - Group Comparison')\n",
        "plt.show()"
      ]
    },
    {
      "cell_type": "code",
      "execution_count": 35,
      "metadata": {
        "colab": {
          "base_uri": "https://localhost:8080/"
        },
        "id": "PIzjwXYYThLi",
        "outputId": "2a98301f-20d3-425a-fd11-760482232b74"
      },
      "outputs": [
        {
          "name": "stdout",
          "output_type": "stream",
          "text": [
            "\n",
            "Tukey’s HSD test is a post-hoc analysis used after ANOVA to identify which specific group means differ significantly while controlling for Type I error. In our example, ANOVA showed significant differences in fecundity among the NS, RS, and SS genetic lines of Drosophila melanogaster. Tukey’s HSD revealed that both RS and SS lines significantly differed from the NS line, but not from each other, highlighting the impact of selective breeding on fecundity.\n",
            "\n",
            "\n",
            "Using the values from the ANOVA test\n",
            "\n",
            "  Steps for Tukey's HSD:\n",
            "1. Calculate the Standard Error (SE) of group differences:\n",
            "2. Obtain the critical value (𝑞)\n",
            "3. Calculate the Honestly Significant Difference (HSD)\n",
            "4. Compare group differences to HSD\n",
            "\n",
            "\n",
            "Calculated HSD: 6.080483507090534\n",
            "Difference between NS and RS: 8.115999999999996 - Significant\n",
            "Difference between NS and SS: 9.744000000000003 - Significant\n",
            "Difference between RS and SS: 1.628 - Not Significant\n"
          ]
        }
      ],
      "source": [
        "print(\"\"\"\n",
        "Tukey’s HSD test is a post-hoc analysis used after ANOVA to identify which specific group means differ significantly while controlling for Type I error. In our example, ANOVA showed significant differences in fecundity among the NS, RS, and SS genetic lines of Drosophila melanogaster. Tukey’s HSD revealed that both RS and SS lines significantly differed from the NS line, but not from each other, highlighting the impact of selective breeding on fecundity.\n",
        "\"\"\")\n",
        "\n",
        "from statsmodels.stats.multicomp import pairwise_tukeyhsd\n",
        "\n",
        "print(\"\"\"\n",
        "Using the values from the ANOVA test\n",
        "\n",
        "  Steps for Tukey's HSD:\n",
        "1. Calculate the Standard Error (SE) of group differences:\n",
        "2. Obtain the critical value (𝑞)\n",
        "3. Calculate the Honestly Significant Difference (HSD)\n",
        "4. Compare group differences to HSD\n",
        "\n",
        "\"\"\")\n",
        "\n",
        "import math\n",
        "n_per_group = 25  # Assuming 25 observations per group\n",
        "\n",
        "# 1. Calculate the Standard Error (SE)\n",
        "SE = math.sqrt(MS_within / n_per_group)\n",
        "\n",
        "# 2. Critical value q (approximate value from Studentized Range Distribution table)\n",
        "q_value = 3.5  # value for df_between=2, df_within=72, and alpha=0.05\n",
        "\n",
        "# 3. Calculate HSD\n",
        "HSD = q_value * SE\n",
        "\n",
        "# 4. Display HSD\n",
        "print(f\"Calculated HSD: {HSD}\")\n",
        "\n",
        "# Calculate differences between group means\n",
        "diff_NS_RS = abs(ns_mean - rs_mean)\n",
        "diff_NS_SS = abs(ns_mean - ss_mean)\n",
        "diff_RS_SS = abs(rs_mean - ss_mean)\n",
        "\n",
        "# Compare differences to HSD\n",
        "print(f\"Difference between NS and RS: {diff_NS_RS} - {'Significant' if diff_NS_RS > HSD else 'Not Significant'}\")\n",
        "print(f\"Difference between NS and SS: {diff_NS_SS} - {'Significant' if diff_NS_SS > HSD else 'Not Significant'}\")\n",
        "print(f\"Difference between RS and SS: {diff_RS_SS:.3f} - {'Significant' if diff_RS_SS > HSD else 'Not Significant'}\")\n",
        "\n"
      ]
    },
    {
      "cell_type": "markdown",
      "metadata": {
        "id": "5BzfxonMmPMd"
      },
      "source": []
    }
  ],
  "metadata": {
    "colab": {
      "provenance": []
    },
    "kernelspec": {
      "display_name": "Python 3",
      "name": "python3"
    },
    "language_info": {
      "name": "python"
    }
  },
  "nbformat": 4,
  "nbformat_minor": 0
}
